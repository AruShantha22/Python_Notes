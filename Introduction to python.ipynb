{
 "cells": [
  {
   "cell_type": "markdown",
   "metadata": {},
   "source": [
    "# **Where we can use python**"
   ]
  },
  {
   "cell_type": "markdown",
   "metadata": {},
   "source": [
    "1.Desktop Applications (Calculator, Notepad, etc..)\n",
    "\n",
    "2.Web Applications (Youtube, Dropbox, Google, Instagram, Quora, Spotify)\n",
    "\n",
    "3.Scientific and Numeric Computing (Scipy, Numpy)\n",
    "\n",
    "4.Database Applications (Library Management Systems, Pharmaceutical)\n",
    "\n",
    "5.Network Applications (Network Sniffer, Network Parameter extraction, Routing Algo's like OSPF)\n",
    "\n",
    "6.Developing Games (Battlefield, Sims 4, PUBG)\n",
    "\n",
    "7.Data Science (Pandas, Matplotlib, Seaborn, etc)\n",
    "\n",
    "8.Machine Learning (scikit)\n",
    "\n",
    "9.AI (AIMA - AI: A Modern Approach)\n",
    "\n",
    "10.IOT (Raspberry pi, Phillips(works great with low level code in c++))"
   ]
  },
  {
   "cell_type": "markdown",
   "metadata": {},
   "source": [
    "# Features of python"
   ]
  },
  {
   "cell_type": "markdown",
   "metadata": {},
   "source": [
    "1.python is a simple and easy to understand(learn).\n",
    "\n",
    "2.python is a open source programming language campare to other languages.\n",
    "\n",
    "3.General purpose and high level of programming language.\n",
    "\n",
    "4.platform independent: python is a platform independent because it will not depends upon the operating system what ever we used.\n",
    "\n",
    "5.case sensitive:python is a case sensitive language we will not use some reserved words.\n",
    "\n",
    "6.Interpreted language: python is a interpreted language it can execute or run single line code at a\n",
    "\n",
    "time it will not consider the error whether it is contained in the second and third line.\n",
    "\n",
    "7.Dynamically typed: In python we dont need to menstion variable type, python is smart enough to\n",
    "\n",
    "understand the variable type or type of the variable what ever is given by the user.\n",
    "\n",
    "8.Rich library: Python has large libraries like numpy,matplotlib,pandas,sklearn....etc.\n",
    "\n"
   ]
  },
  {
   "cell_type": "markdown",
   "metadata": {},
   "source": [
    "# Hello World"
   ]
  },
  {
   "cell_type": "code",
   "execution_count": 1,
   "metadata": {},
   "outputs": [
    {
     "name": "stdout",
     "output_type": "stream",
     "text": [
      "hello world\n"
     ]
    }
   ],
   "source": [
    "print('hello world')"
   ]
  },
  {
   "cell_type": "markdown",
   "metadata": {},
   "source": [
    "# Identifiers"
   ]
  },
  {
   "cell_type": "markdown",
   "metadata": {},
   "source": [
    "Identifier: variable_name,class_name,function_name\n",
    "\n",
    "1.Allowed characters => Alphabets, Digits and Underscore Symbol\n",
    "\n",
    "2.Identifier should never start with a digit\n",
    "\n",
    "3.Case Sensitive.\n",
    "\n",
    "4.No length limit.\n",
    "\n",
    "5.Can't use reserved words for identifier."
   ]
  },
  {
   "cell_type": "code",
   "execution_count": 2,
   "metadata": {},
   "outputs": [
    {
     "name": "stdout",
     "output_type": "stream",
     "text": [
      "140730327054400\n",
      "140730327054400\n"
     ]
    }
   ],
   "source": [
    "abc123=10\n",
    "Abc123=10\n",
    "print(id(abc123))\n",
    "print(id(Abc123))"
   ]
  },
  {
   "cell_type": "code",
   "execution_count": 5,
   "metadata": {},
   "outputs": [
    {
     "name": "stdout",
     "output_type": "stream",
     "text": [
      "['False', 'None', 'True', 'and', 'as', 'assert', 'async', 'await', 'break', 'class', 'continue', 'def', 'del', 'elif', 'else', 'except', 'finally', 'for', 'from', 'global', 'if', 'import', 'in', 'is', 'lambda', 'nonlocal', 'not', 'or', 'pass', 'raise', 'return', 'try', 'while', 'with', 'yield']\n",
      "35\n"
     ]
    }
   ],
   "source": [
    "import keyword\n",
    "print(keyword.kwlist)\n",
    "print(len(keyword.kwlist))"
   ]
  },
  {
   "cell_type": "markdown",
   "metadata": {},
   "source": [
    "# Data Types\n"
   ]
  },
  {
   "cell_type": "markdown",
   "metadata": {},
   "source": [
    "**1.Preliminary data types:** We can store one value at a time.\n",
    "\n",
    " **Numeric** - int, float, complex (Immutable)\n",
    " \n",
    " **Boolean** - bool (True/False)\n",
    "    \n",
    " **Strings** (Immutable)\n",
    "\n",
    "\n",
    "**2.Data Structures:** we can create a sequence of elements inside the list or tuple or set...etc.\n",
    "\n",
    " **List** (Mutable, mostly used to store homogeneous data types)\n",
    " \n",
    "   **Tuple** (Immutable, faster compared to List)\n",
    "   \n",
    "   **Set** (Unordered collection of items, mutable, removes duplicates)\n",
    "    \n",
    "  **Dictionary** (Unordered collection of Key-Value Pairs, Mutable, Keys are Unique - values may not be unique)"
   ]
  },
  {
   "cell_type": "markdown",
   "metadata": {},
   "source": [
    "**Numeric Data type:int ,float,complex(imaginary)** "
   ]
  },
  {
   "cell_type": "code",
   "execution_count": 6,
   "metadata": {},
   "outputs": [
    {
     "name": "stdout",
     "output_type": "stream",
     "text": [
      "<class 'int'>\n",
      "<class 'float'>\n",
      "<class 'complex'>\n"
     ]
    }
   ],
   "source": [
    "a=5\n",
    "b=5.0\n",
    "c=5+0j\n",
    "print(type(a))\n",
    "print(type(b))\n",
    "print(type(c))"
   ]
  },
  {
   "cell_type": "code",
   "execution_count": 9,
   "metadata": {},
   "outputs": [
    {
     "name": "stdout",
     "output_type": "stream",
     "text": [
      "<class 'complex'>\n",
      "True\n",
      "10.0\n",
      "2.0\n"
     ]
    }
   ],
   "source": [
    "c=10+2j\n",
    "print(type(c))\n",
    "print(isinstance(c,complex))\n",
    "print(c.real)\n",
    "print(c.imag)\n"
   ]
  },
  {
   "cell_type": "markdown",
   "metadata": {},
   "source": [
    "# Input output"
   ]
  },
  {
   "cell_type": "code",
   "execution_count": 10,
   "metadata": {},
   "outputs": [
    {
     "name": "stdout",
     "output_type": "stream",
     "text": [
      "1256222611\n"
     ]
    },
    {
     "data": {
      "text/plain": [
       "'1256222611'"
      ]
     },
     "execution_count": 10,
     "metadata": {},
     "output_type": "execute_result"
    }
   ],
   "source": [
    "input()"
   ]
  },
  {
   "cell_type": "code",
   "execution_count": 12,
   "metadata": {},
   "outputs": [
    {
     "name": "stdout",
     "output_type": "stream",
     "text": [
      "enter a phone number:6303365612\n"
     ]
    }
   ],
   "source": [
    "shantha=int(input(\"enter a phone number:\"))"
   ]
  },
  {
   "cell_type": "code",
   "execution_count": 16,
   "metadata": {},
   "outputs": [
    {
     "name": "stdout",
     "output_type": "stream",
     "text": [
      "a=5\n",
      "b=10\n",
      "15\n",
      "<class 'int'>\n",
      "<class 'int'>\n"
     ]
    }
   ],
   "source": [
    "#Wap two numbers and add them\n",
    "\n",
    "a=int(input(\"a=\"))\n",
    "    \n",
    "b=int(input(\"b=\"))\n",
    "\n",
    "print(a+b)\n",
    "print(type(a))\n",
    "print(type(b))\n",
    "\n",
    "    "
   ]
  },
  {
   "cell_type": "code",
   "execution_count": 15,
   "metadata": {},
   "outputs": [
    {
     "name": "stdout",
     "output_type": "stream",
     "text": [
      "a=5.5\n",
      "<class 'float'>\n"
     ]
    }
   ],
   "source": [
    "a=float(input(\"a=\"))\n",
    "print(type(a))\n"
   ]
  },
  {
   "cell_type": "code",
   "execution_count": 20,
   "metadata": {},
   "outputs": [
    {
     "name": "stdout",
     "output_type": "stream",
     "text": [
      "enter a number:10\n",
      "10\n",
      "10.000000\n",
      "10\n"
     ]
    }
   ],
   "source": [
    "num=int(input(\"enter a number:\"))\n",
    "print(num)\n",
    "print('%f'%num)\n",
    "print('{}'.format(num))"
   ]
  },
  {
   "cell_type": "code",
   "execution_count": 28,
   "metadata": {},
   "outputs": [
    {
     "name": "stdout",
     "output_type": "stream",
     "text": [
      "5050505050505050505050505050505050505050\n",
      "50 20\n",
      "50 @ 20 @ 50\n",
      "100 200 300 400 500$\n"
     ]
    }
   ],
   "source": [
    "print('50'*20)\n",
    "print(50,20)\n",
    "print(50,20,50,sep=' @ ') #sep=' ',end='\\n'\n",
    "print(100,200,300,400,500,end='$\\n')"
   ]
  },
  {
   "cell_type": "markdown",
   "metadata": {},
   "source": [
    "# Operators"
   ]
  },
  {
   "cell_type": "markdown",
   "metadata": {},
   "source": [
    "Operator is a symbol that perform certain operation.\n",
    "\n",
    "Operators available in python are:\n",
    "\n",
    "**Arithmatic** (+, -, , /, %, //,**)\n",
    "\n",
    "**Relational** (>, >=, <, <=)\n",
    "\n",
    "**Equality** (==, !=)\n",
    "\n",
    "**Logical** (and, or, not)\n",
    "\n",
    "**Bitwise** (&, |, ^, ~, <<, >>)\n",
    "\n",
    "**Assignment** (=, +=, -=, *=, /=, etc..)\n",
    "\n",
    "**Ternary**\n",
    "\n",
    "**Identity** --> is, is not (used for address comparision)\n",
    "\n",
    "**Membership** --> in, not in"
   ]
  },
  {
   "cell_type": "markdown",
   "metadata": {},
   "source": [
    "**Arithmetic operators**"
   ]
  },
  {
   "cell_type": "code",
   "execution_count": 31,
   "metadata": {},
   "outputs": [
    {
     "name": "stdout",
     "output_type": "stream",
     "text": [
      "a+b: 15\n",
      "a-b: -5\n",
      "a/b: 0.5\n",
      "a%b: 5\n",
      "a**b: 9765625\n",
      "a//b: 0\n"
     ]
    }
   ],
   "source": [
    "a=5\n",
    "b=10\n",
    "print(\"a+b:\",a+b)\n",
    "print(\"a-b:\",a-b)\n",
    "print(\"a/b:\",a/b)   #quocient\n",
    "print(\"a%b:\",a%b)   #reminder\n",
    "print(\"a**b:\",a**b) #power(or)Square\n",
    "print(\"a//b:\",a//b) #integer floar division"
   ]
  },
  {
   "cell_type": "markdown",
   "metadata": {},
   "source": [
    "**Relational operators**"
   ]
  },
  {
   "cell_type": "code",
   "execution_count": 34,
   "metadata": {},
   "outputs": [
    {
     "name": "stdout",
     "output_type": "stream",
     "text": [
      "a<b: True\n",
      "a>b: False\n",
      "a<=: True\n",
      "a>=: False\n"
     ]
    }
   ],
   "source": [
    "a=20\n",
    "b=40\n",
    "print(\"a<b:\",a<b)\n",
    "print(\"a>b:\",a>b)\n",
    "print(\"a<=:\",a<=b)\n",
    "print(\"a>=:\",a>=b)"
   ]
  },
  {
   "cell_type": "markdown",
   "metadata": {},
   "source": [
    "**Equality operator**"
   ]
  },
  {
   "cell_type": "code",
   "execution_count": 36,
   "metadata": {},
   "outputs": [
    {
     "name": "stdout",
     "output_type": "stream",
     "text": [
      "a==b: False\n",
      "a!=b: True\n"
     ]
    }
   ],
   "source": [
    "a=20\n",
    "b=50\n",
    "print(\"a==b:\",a==b)\n",
    "print(\"a!=b:\",a!=b)"
   ]
  },
  {
   "cell_type": "markdown",
   "metadata": {},
   "source": [
    "**logical operator**"
   ]
  },
  {
   "cell_type": "code",
   "execution_count": 43,
   "metadata": {},
   "outputs": [
    {
     "name": "stdout",
     "output_type": "stream",
     "text": [
      "False\n",
      "True\n",
      "True\n",
      "True\n",
      "False\n"
     ]
    }
   ],
   "source": [
    "#and\n",
    "print((100>200) and (200>100))# False,True=false\n",
    "print((500==500)and(500<1000))#Trure,True=True\n",
    "print((500!=200)and(50==50)) #True,True=True\n",
    "\n",
    "#or\n",
    "print((100==100)or(100==100))#True,True=True\n",
    "print((10!=10)or(100!=100))#False,False=False"
   ]
  },
  {
   "cell_type": "markdown",
   "metadata": {},
   "source": [
    "**Bitwise operator**"
   ]
  },
  {
   "cell_type": "code",
   "execution_count": 44,
   "metadata": {},
   "outputs": [],
   "source": [
    "# Bitwise\n",
    "# & -> if both bits are 1 then 1 otherwise 0\n",
    "# | -> if both bits are 0 then 0 otherwise 1\n",
    "# ^ -> if both bits are different then 1 otherwise 0\n",
    "# ~ -> bitwise complement"
   ]
  },
  {
   "cell_type": "code",
   "execution_count": 48,
   "metadata": {},
   "outputs": [
    {
     "name": "stdout",
     "output_type": "stream",
     "text": [
      "64\n",
      "236\n",
      "172\n",
      "-201\n"
     ]
    }
   ],
   "source": [
    "print(100 & 200)\n",
    "print(100 | 200)\n",
    "print(100 ^ 200)\n",
    "print(~200)"
   ]
  },
  {
   "cell_type": "markdown",
   "metadata": {},
   "source": [
    "**shift operator**"
   ]
  },
  {
   "cell_type": "code",
   "execution_count": 50,
   "metadata": {},
   "outputs": [
    {
     "name": "stdout",
     "output_type": "stream",
     "text": [
      "200\n",
      "50\n"
     ]
    }
   ],
   "source": [
    "print(100<<1)#adding 100\n",
    "print(100>>1)#substracting"
   ]
  },
  {
   "cell_type": "markdown",
   "metadata": {},
   "source": [
    "**Assignment operator**"
   ]
  },
  {
   "cell_type": "code",
   "execution_count": 52,
   "metadata": {},
   "outputs": [
    {
     "name": "stdout",
     "output_type": "stream",
     "text": [
      "20\n"
     ]
    }
   ],
   "source": [
    "x=10\n",
    "x+=10\n",
    "print(x)"
   ]
  },
  {
   "cell_type": "code",
   "execution_count": 58,
   "metadata": {},
   "outputs": [
    {
     "name": "stdout",
     "output_type": "stream",
     "text": [
      "10000\n"
     ]
    }
   ],
   "source": [
    "X=100\n",
    "X*=100\n",
    "print(X)"
   ]
  },
  {
   "cell_type": "code",
   "execution_count": null,
   "metadata": {},
   "outputs": [],
   "source": []
  }
 ],
 "metadata": {
  "kernelspec": {
   "display_name": "Python 3",
   "language": "python",
   "name": "python3"
  },
  "language_info": {
   "codemirror_mode": {
    "name": "ipython",
    "version": 3
   },
   "file_extension": ".py",
   "mimetype": "text/x-python",
   "name": "python",
   "nbconvert_exporter": "python",
   "pygments_lexer": "ipython3",
   "version": "3.8.3"
  }
 },
 "nbformat": 4,
 "nbformat_minor": 4
}
